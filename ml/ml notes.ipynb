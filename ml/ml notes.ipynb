{
 "cells": [
  {
   "cell_type": "markdown",
   "metadata": {},
   "source": [
    "Process of ml\n",
    "Load\n",
    "Clean\n",
    "Target,Predictors\n",
    "Splitting(test(20%,30%),train(80%,70%))\n",
    "Train on the train\n",
    "Predict on the test\n",
    "Evaluate\n",
    "Pickle/joblib"
   ]
  },
  {
   "cell_type": "markdown",
   "metadata": {},
   "source": [
    "Regression(look at errors)\n",
    "Evaluate\n",
    "r**2\n",
    "mean square error\n",
    "mse\n",
    "rmse\n",
    "mase"
   ]
  },
  {
   "cell_type": "markdown",
   "metadata": {},
   "source": [
    "Classificsation(look at impurities)\n",
    "Evaluating\n",
    "accuracy\n",
    "recall\n",
    "f score\n",
    "Classification report"
   ]
  }
 ],
 "metadata": {
  "kernelspec": {
   "display_name": "Python 3",
   "language": "python",
   "name": "python3"
  },
  "language_info": {
   "name": "python",
   "version": "3.12.2"
  }
 },
 "nbformat": 4,
 "nbformat_minor": 2
}
